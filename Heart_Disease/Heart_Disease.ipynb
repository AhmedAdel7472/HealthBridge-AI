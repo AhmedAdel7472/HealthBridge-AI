{
 "cells": [
  {
   "cell_type": "code",
   "execution_count": 1,
   "metadata": {},
   "outputs": [
    {
     "name": "stdout",
     "output_type": "stream",
     "text": [
      "heart_disease model saved successfully!\n"
     ]
    }
   ],
   "source": [
    "import os\n",
    "import pickle\n",
    "import pandas as pd\n",
    "from sklearn.model_selection import train_test_split\n",
    "from sklearn.preprocessing import StandardScaler\n",
    "from sklearn.ensemble import RandomForestClassifier\n",
    "\n",
    "# Ensure 'models' directory exists\n",
    "os.makedirs(\"models\", exist_ok=True)\n",
    "\n",
    "\n",
    "def train_and_save_model(dataset_path, target_column, model_name):\n",
    "    \"\"\"Loads dataset, trains a RandomForest model, and saves it.\"\"\"\n",
    "    \n",
    "    # Load dataset\n",
    "    df = pd.read_csv(dataset_path)\n",
    "\n",
    "    df[target_column] = df[target_column].apply(lambda x: 1 if x > 0 else 0)\n",
    "\n",
    "    df = df.drop(columns=[\"id\", \"origin\"], errors=\"ignore\")\n",
    "\n",
    "    # Drop rows with missing values\n",
    "    df = df.dropna()\n",
    "\n",
    "    # Convert categorical columns to numerical if needed\n",
    "    df = pd.get_dummies(df, drop_first=True)\n",
    "\n",
    "    # Split data into features (X) and target (y)\n",
    "    X = df.drop(columns=[target_column])\n",
    "    y = df[target_column]\n",
    "\n",
    "    # Train-test split\n",
    "    X_train, X_test, y_train, y_test = train_test_split(X, y, test_size=0.2, random_state=42)\n",
    "\n",
    "    # Scale the data\n",
    "    scaler = StandardScaler()\n",
    "    X_train = scaler.fit_transform(X_train)\n",
    "    X_test = scaler.transform(X_test)\n",
    "\n",
    "    # Train model\n",
    "    model = RandomForestClassifier(n_estimators=100, random_state=42)\n",
    "    model.fit(X_train, y_train)\n",
    "\n",
    "    # Save model & scaler\n",
    "    with open(f\"models/{model_name}.pkl\", \"wb\") as f:\n",
    "        pickle.dump(model, f)\n",
    "\n",
    "    with open(f\"models/{model_name}_scaler.pkl\", \"wb\") as f:\n",
    "        pickle.dump(scaler, f)\n",
    "\n",
    "    print(f\"{model_name} model saved successfully!\")\n",
    "\n",
    "\n",
    "# Train and save models\n",
    "train_and_save_model(\"Dataset/heart_disease_uci.csv\", \"num\", \"heart_disease\")  # UCI Heart Disease"
   ]
  },
  {
   "cell_type": "code",
   "execution_count": 2,
   "metadata": {},
   "outputs": [
    {
     "name": "stdout",
     "output_type": "stream",
     "text": [
      "Feature names not found in the model.\n"
     ]
    }
   ],
   "source": [
    "import pickle\n",
    "\n",
    "# Load the trained model\n",
    "with open(\"models/heart_disease.pkl\", \"rb\") as f:\n",
    "    model = pickle.load(f)\n",
    "\n",
    "# Check if the model has feature names\n",
    "if hasattr(model, \"feature_names_in_\"):\n",
    "    features = model.feature_names_in_\n",
    "    print(\"Model Features:\", list(features))\n",
    "else:\n",
    "    print(\"Feature names not found in the model.\")\n"
   ]
  }
 ],
 "metadata": {
  "kernelspec": {
   "display_name": "langchain_env",
   "language": "python",
   "name": "langchain_env"
  },
  "language_info": {
   "codemirror_mode": {
    "name": "ipython",
    "version": 3
   },
   "file_extension": ".py",
   "mimetype": "text/x-python",
   "name": "python",
   "nbconvert_exporter": "python",
   "pygments_lexer": "ipython3",
   "version": "3.10.10"
  }
 },
 "nbformat": 4,
 "nbformat_minor": 2
}
